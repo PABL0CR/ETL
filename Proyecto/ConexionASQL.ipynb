{
 "cells": [
  {
   "cell_type": "code",
   "execution_count": null,
   "id": "1d06f721",
   "metadata": {},
   "outputs": [],
   "source": [
    "# descargar librerías sqlalchemy, sqlclient\n",
    "import warnings\n",
    "warnings.filterwarnings('ignore')\n",
    "from sqlalchemy import create_engine\n",
    "import pandas as pd\n",
    "import pymysql\n",
    "from dotenv import load_dotenv\n",
    "import os"
   ]
  },
  {
   "cell_type": "code",
   "execution_count": null,
   "id": "4442e059",
   "metadata": {},
   "outputs": [],
   "source": [
    "load_dotenv()\n",
    "# Obtener las variables de conexión desde el entorno\n",
    "user = os.getenv(\"DB_USER\")\n",
    "password = os.getenv(\"DB_PASS\")\n",
    "host = os.getenv(\"DB_HOST\")\n",
    "port = os.getenv(\"DB_PORT\")\n",
    "db = os.getenv(\"DB_NAME\")\n",
    "excel_path = os.getenv(\"EXCEL_PATH\")"
   ]
  },
  {
   "cell_type": "code",
   "execution_count": null,
   "id": "8a8fae2e",
   "metadata": {},
   "outputs": [],
   "source": [
    "# Crear la conexión a la base de datos MySQL, antes de hacerlo es necesario crear la base de datos\n",
    "# y el usuario con los permisos necesarios. Aquí se asume que ya existe una base de datos llamada 'ventasdb'\n",
    "# y un usuario 'root' con contraseña '12345'\n",
    "engine = create_engine(f\"mysql+pymysql://{user}:{password}@{host}:{port}/{db}\", echo=False)\n",
    "conn = engine.connect()\n",
    "\n",
    "# Leer todas las hojas del archivo Excel como un diccionario de DataFrames\n",
    "all_sheets = pd.read_excel(excel_path, sheet_name=None)"
   ]
  },
  {
   "cell_type": "code",
   "execution_count": 3,
   "id": "2e9b4944",
   "metadata": {},
   "outputs": [
    {
     "name": "stdout",
     "output_type": "stream",
     "text": [
      "dict_keys(['dim_cliente', 'dim_producto', 'dim_region', 'dim_tiempo', 'hechos_ventas'])\n"
     ]
    }
   ],
   "source": [
    "print(all_sheets.keys())\n",
    "hechos_ventas = all_sheets['hechos_ventas'].copy()"
   ]
  },
  {
   "cell_type": "code",
   "execution_count": 4,
   "id": "0e112510",
   "metadata": {},
   "outputs": [],
   "source": [
    "# Subir cada hoja como una tabla independiente\n",
    "for sheet_name, df in all_sheets.items():\n",
    "    # Eliminar espacios y caracteres especiales del nombre de la hoja para usar como nombre de tabla\n",
    "    clean_name = sheet_name.strip().lower().replace(\" \", \"_\")\n",
    "    df.to_sql(clean_name, engine, index=False, if_exists='replace')\n",
    "\n",
    "# Cerrar la conexión\n",
    "conn.close()"
   ]
  }
 ],
 "metadata": {
  "kernelspec": {
   "display_name": "Python 3",
   "language": "python",
   "name": "python3"
  },
  "language_info": {
   "codemirror_mode": {
    "name": "ipython",
    "version": 3
   },
   "file_extension": ".py",
   "mimetype": "text/x-python",
   "name": "python",
   "nbconvert_exporter": "python",
   "pygments_lexer": "ipython3",
   "version": "3.13.1"
  }
 },
 "nbformat": 4,
 "nbformat_minor": 5
}
