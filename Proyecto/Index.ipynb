{
 "cells": [
  {
   "cell_type": "code",
   "execution_count": null,
   "id": "13f245de",
   "metadata": {},
   "outputs": [],
   "source": [
    "pip install XlsxWriter"
   ]
  },
  {
   "cell_type": "code",
   "execution_count": 107,
   "id": "d2fde621",
   "metadata": {},
   "outputs": [],
   "source": [
    "import pandas as pd\n",
    "# El objetivo es transformar un CSV de ventas en un DWH simple\n",
    "df = pd.read_csv(\"Superstore.csv\", encoding='latin1')"
   ]
  },
  {
   "cell_type": "code",
   "execution_count": 108,
   "id": "0495f8fa",
   "metadata": {},
   "outputs": [
    {
     "name": "stdout",
     "output_type": "stream",
     "text": [
      "Index(['Row ID', 'Order ID', 'Order Date', 'Ship Date', 'Ship Mode',\n",
      "       'Customer ID', 'Customer Name', 'Segment', 'Country', 'City', 'State',\n",
      "       'Postal Code', 'Region', 'Product ID', 'Category', 'Sub-Category',\n",
      "       'Product Name', 'Sales', 'Quantity', 'Discount', 'Profit'],\n",
      "      dtype='object')\n"
     ]
    }
   ],
   "source": [
    "print(df.columns)"
   ]
  },
  {
   "cell_type": "code",
   "execution_count": 109,
   "id": "bfdde5e9",
   "metadata": {},
   "outputs": [],
   "source": [
    "# Limpieza de datos\n",
    "columns_to_drop = [\n",
    "    'Row ID', 'Ship Date', 'Ship Mode', 'Customer Name',\n",
    "    'Country', 'Postal Code'\n",
    "]\n",
    "df = df.drop(columns=columns_to_drop)"
   ]
  },
  {
   "cell_type": "code",
   "execution_count": 110,
   "id": "f3d21762",
   "metadata": {},
   "outputs": [],
   "source": [
    "# Renombrar columnas\n",
    "df.rename(columns={\n",
    "    'Order Date': 'fecha_orden',\n",
    "    'Order ID': 'orden_id',\n",
    "    'Customer ID': 'cliente_id',\n",
    "    'Customer Name': 'nombre_cliente',\n",
    "    'Segment': 'segmento',\n",
    "    'Country': 'pais',\n",
    "    'City': 'ciudad',\n",
    "    'State': 'estado',\n",
    "    'Region': 'region',\n",
    "    'Product ID': 'producto_id',\n",
    "    'Category': 'categoria',\n",
    "    'Sub-Category': 'subcategoria',\n",
    "    'Product Name': 'nombre_producto',\n",
    "    'Sales': 'ventas',\n",
    "    'Quantity': 'cantidad',\n",
    "    'Discount': 'descuento',\n",
    "    'Profit': 'utilidad'\n",
    "}, inplace=True)"
   ]
  },
  {
   "cell_type": "code",
   "execution_count": 111,
   "id": "f8e5ca38",
   "metadata": {},
   "outputs": [],
   "source": [
    "df['fecha_orden'] = pd.to_datetime(df['fecha_orden'], format='%d-%m-%Y', dayfirst=True)\n",
    "df['fecha_orden'] = df['fecha_orden'].dt.normalize()\n",
    "# Ahora extraemos el año, mes y día de la fecha\n",
    "df['año'] = df['fecha_orden'].dt.year\n",
    "df['mes'] = df['fecha_orden'].dt.month\n",
    "df['dia'] = df['fecha_orden'].dt.day"
   ]
  },
  {
   "cell_type": "code",
   "execution_count": 105,
   "id": "647e7d22",
   "metadata": {},
   "outputs": [],
   "source": [
    "# Creamos las diferentes dimensiones con sus respectivas tablas\n",
    "dim_cliente = df[['cliente_id', 'segmento']].drop_duplicates()\n",
    "dim_producto = df[['producto_id', 'categoria', 'subcategoria', 'nombre_producto']].drop_duplicates()\n",
    "dim_region = df[['region', 'estado', 'ciudad']].drop_duplicates()\n",
    "dim_region['region_id'] = dim_region.index + 1\n",
    "df = df.merge(dim_region, on=['region', 'estado', 'ciudad'], how='left')\n",
    "dim_tiempo = df[['fecha_orden', 'año', 'mes', 'dia']].drop_duplicates()\n",
    "hechos_ventas = df[['fecha_orden', 'cliente_id', 'producto_id', 'region_id', 'ventas', 'cantidad', 'descuento']]"
   ]
  },
  {
   "cell_type": "code",
   "execution_count": 112,
   "id": "2b6786a9",
   "metadata": {},
   "outputs": [],
   "source": [
    "# Creamos las diferentes dimensiones con sus respectivas tablas\n",
    "dim_cliente = df[['cliente_id', 'segmento']].drop_duplicates()\n",
    "dim_producto = df[['producto_id', 'categoria', 'subcategoria', 'nombre_producto']].drop_duplicates()\n",
    "dim_region = df[['region', 'estado', 'ciudad']].drop_duplicates()\n",
    "dim_region['region_id'] = dim_region.index + 1\n",
    "df = df.merge(dim_region, on=['region', 'estado', 'ciudad'], how='left')\n",
    "dim_tiempo = df[['fecha_orden', 'año', 'mes', 'dia']].drop_duplicates()\n",
    "dim_tiempo['tiempo_id'] = dim_tiempo.index + 1\n",
    "df = df.merge(dim_tiempo, on='fecha_orden', how='left')\n",
    "# Creamos la tabla de hechos\n",
    "hechos_ventas = df[['tiempo_id', 'cliente_id', 'producto_id', 'region_id', 'ventas', 'cantidad', 'descuento']]"
   ]
  },
  {
   "cell_type": "code",
   "execution_count": 114,
   "id": "e40818ef",
   "metadata": {},
   "outputs": [
    {
     "name": "stdout",
     "output_type": "stream",
     "text": [
      "Archivo 'ventasdb.xlsx' creado con éxito, con todas las tablas.\n"
     ]
    }
   ],
   "source": [
    "# Crear archivo Excel con varias hojas\n",
    "with pd.ExcelWriter('ventasdb.xlsx', engine='xlsxwriter') as writer:\n",
    "    dim_cliente.to_excel(writer, sheet_name='dim_cliente', index=False)\n",
    "    dim_producto.to_excel(writer, sheet_name='dim_producto', index=False)\n",
    "    dim_region.to_excel(writer, sheet_name='dim_region', index=False)\n",
    "    dim_tiempo.to_excel(writer, sheet_name='dim_tiempo', index=False)\n",
    "    hechos_ventas.to_excel(writer, sheet_name='hechos_ventas', index=False)\n",
    "\n",
    "print(\"Archivo 'ventasdb.xlsx' creado con éxito, con todas las tablas.\")"
   ]
  }
 ],
 "metadata": {
  "kernelspec": {
   "display_name": "Python 3",
   "language": "python",
   "name": "python3"
  },
  "language_info": {
   "codemirror_mode": {
    "name": "ipython",
    "version": 3
   },
   "file_extension": ".py",
   "mimetype": "text/x-python",
   "name": "python",
   "nbconvert_exporter": "python",
   "pygments_lexer": "ipython3",
   "version": "3.13.1"
  }
 },
 "nbformat": 4,
 "nbformat_minor": 5
}
